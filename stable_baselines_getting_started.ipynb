{
  "cells": [
    {
      "cell_type": "markdown",
      "metadata": {
        "id": "view-in-github",
        "colab_type": "text"
      },
      "source": [
        "<a href=\"https://colab.research.google.com/github/rainylover/markdown/blob/main/stable_baselines_getting_started.ipynb\" target=\"_parent\"><img src=\"https://colab.research.google.com/assets/colab-badge.svg\" alt=\"Open In Colab\"/></a>"
      ]
    },
    {
      "cell_type": "markdown",
      "metadata": {
        "id": "hyyN-2qyK_T2"
      },
      "source": [
        "# Stable Baselines3 Tutorial - Getting Started\n",
        "\n",
        "Github repo: https://github.com/araffin/rl-tutorial-jnrr19\n",
        "\n",
        "Stable-Baselines3: https://github.com/DLR-RM/stable-baselines3\n",
        "\n",
        "Documentation: https://stable-baselines.readthedocs.io/en/master/\n",
        "\n",
        "RL Baselines3 zoo: https://github.com/DLR-RM/rl-baselines3-zoo\n",
        "\n",
        "\n",
        "[RL Baselines3 Zoo](https://github.com/DLR-RM/rl-baselines3-zoo) is a training framework for Reinforcement Learning (RL), using Stable Baselines3.\n",
        "\n",
        "It provides scripts for training, evaluating agents, tuning hyperparameters, plotting results and recording videos.\n",
        "\n",
        "## Introduction\n",
        "\n",
        "In this notebook, you will learn the basics for using stable baselines3 library: how to create a RL model, train it and evaluate it. Because all algorithms share the same interface, we will see how simple it is to switch from one algorithm to another.\n",
        "\n",
        "\n",
        "## Install Dependencies and Stable Baselines3 Using Pip\n",
        "\n",
        "List of full dependencies can be found in the [README](https://github.com/DLR-RM/stable-baselines3).\n",
        "\n",
        "\n",
        "```\n",
        "pip install stable-baselines3[extra]\n",
        "```"
      ]
    },
    {
      "cell_type": "code",
      "execution_count": null,
      "metadata": {
        "id": "W87LlJeU_tpV"
      },
      "outputs": [],
      "source": [
        "# for autoformatting\n",
        "# %load_ext jupyter_black"
      ]
    },
    {
      "cell_type": "code",
      "execution_count": 1,
      "metadata": {
        "colab": {
          "base_uri": "https://localhost:8080/"
        },
        "id": "gWskDE2c9WoN",
        "outputId": "be65b5a2-e2d0-4217-ff61-e85266b91c7d"
      },
      "outputs": [
        {
          "output_type": "stream",
          "name": "stdout",
          "text": [
            "\r0% [Working]\r            \rGet:1 https://developer.download.nvidia.com/compute/cuda/repos/ubuntu2204/x86_64  InRelease [1,581 B]\n",
            "\r0% [Waiting for headers] [Connecting to security.ubuntu.com (185.125.190.81)] [Waiting for headers] \r                                                                                                    \rGet:2 https://cloud.r-project.org/bin/linux/ubuntu jammy-cran40/ InRelease [3,632 B]\n",
            "Hit:3 http://archive.ubuntu.com/ubuntu jammy InRelease\n",
            "Get:4 http://archive.ubuntu.com/ubuntu jammy-updates InRelease [128 kB]\n",
            "Get:5 https://r2u.stat.illinois.edu/ubuntu jammy InRelease [6,555 B]\n",
            "Get:6 https://developer.download.nvidia.com/compute/cuda/repos/ubuntu2204/x86_64  Packages [1,315 kB]\n",
            "Get:7 http://security.ubuntu.com/ubuntu jammy-security InRelease [129 kB]\n",
            "Get:8 http://archive.ubuntu.com/ubuntu jammy-backports InRelease [127 kB]\n",
            "Hit:9 https://ppa.launchpadcontent.net/deadsnakes/ppa/ubuntu jammy InRelease\n",
            "Get:10 https://r2u.stat.illinois.edu/ubuntu jammy/main amd64 Packages [2,657 kB]\n",
            "Get:11 http://archive.ubuntu.com/ubuntu jammy-updates/universe amd64 Packages [1,526 kB]\n",
            "Hit:12 https://ppa.launchpadcontent.net/graphics-drivers/ppa/ubuntu jammy InRelease\n",
            "Hit:13 https://ppa.launchpadcontent.net/ubuntugis/ppa/ubuntu jammy InRelease\n",
            "Get:14 http://archive.ubuntu.com/ubuntu jammy-updates/main amd64 Packages [2,911 kB]\n",
            "Get:15 https://r2u.stat.illinois.edu/ubuntu jammy/main all Packages [8,677 kB]\n",
            "Get:16 http://security.ubuntu.com/ubuntu jammy-security/main amd64 Packages [2,609 kB]\n",
            "Fetched 20.1 MB in 2s (9,570 kB/s)\n",
            "Reading package lists... Done\n",
            "W: Skipping acquire of configured file 'main/source/Sources' as repository 'https://r2u.stat.illinois.edu/ubuntu jammy InRelease' does not seem to provide it (sources.list entry misspelt?)\n",
            "Reading package lists... Done\n",
            "Building dependency tree... Done\n",
            "Reading state information... Done\n",
            "ffmpeg is already the newest version (7:4.4.2-0ubuntu0.22.04.1).\n",
            "The following additional packages will be installed:\n",
            "  freeglut3 libegl-dev libfontenc1 libgl-dev libgl1-mesa-dev libgles-dev libgles1 libglu1-mesa\n",
            "  libglu1-mesa-dev libglvnd-core-dev libglvnd-dev libglx-dev libice-dev libopengl-dev libsm-dev\n",
            "  libxfont2 libxkbfile1 libxt-dev x11-xkb-utils xfonts-base xfonts-encodings xfonts-utils\n",
            "  xserver-common\n",
            "Suggested packages:\n",
            "  libice-doc libsm-doc libxt-doc\n",
            "The following NEW packages will be installed:\n",
            "  freeglut3 freeglut3-dev libegl-dev libfontenc1 libgl-dev libgl1-mesa-dev libgles-dev libgles1\n",
            "  libglu1-mesa libglu1-mesa-dev libglvnd-core-dev libglvnd-dev libglx-dev libice-dev libopengl-dev\n",
            "  libsm-dev libxfont2 libxkbfile1 libxt-dev x11-xkb-utils xfonts-base xfonts-encodings xfonts-utils\n",
            "  xserver-common xvfb\n",
            "0 upgraded, 25 newly installed, 0 to remove and 22 not upgraded.\n",
            "Need to get 9,076 kB of archives.\n",
            "After this operation, 18.7 MB of additional disk space will be used.\n",
            "Get:1 http://archive.ubuntu.com/ubuntu jammy/universe amd64 freeglut3 amd64 2.8.1-6 [74.0 kB]\n",
            "Get:2 http://archive.ubuntu.com/ubuntu jammy/main amd64 libglx-dev amd64 1.4.0-1 [14.1 kB]\n",
            "Get:3 http://archive.ubuntu.com/ubuntu jammy/main amd64 libgl-dev amd64 1.4.0-1 [101 kB]\n",
            "Get:4 http://archive.ubuntu.com/ubuntu jammy/main amd64 libglvnd-core-dev amd64 1.4.0-1 [12.7 kB]\n",
            "Get:5 http://archive.ubuntu.com/ubuntu jammy/main amd64 libegl-dev amd64 1.4.0-1 [18.0 kB]\n",
            "Get:6 http://archive.ubuntu.com/ubuntu jammy/main amd64 libgles1 amd64 1.4.0-1 [11.5 kB]\n",
            "Get:7 http://archive.ubuntu.com/ubuntu jammy/main amd64 libgles-dev amd64 1.4.0-1 [49.4 kB]\n",
            "Get:8 http://archive.ubuntu.com/ubuntu jammy/main amd64 libopengl-dev amd64 1.4.0-1 [3,400 B]\n",
            "Get:9 http://archive.ubuntu.com/ubuntu jammy/main amd64 libglvnd-dev amd64 1.4.0-1 [3,162 B]\n",
            "Get:10 http://archive.ubuntu.com/ubuntu jammy-updates/main amd64 libgl1-mesa-dev amd64 23.2.1-1ubuntu3.1~22.04.3 [6,848 B]\n",
            "Get:11 http://archive.ubuntu.com/ubuntu jammy/main amd64 libglu1-mesa amd64 9.0.2-1 [145 kB]\n",
            "Get:12 http://archive.ubuntu.com/ubuntu jammy/main amd64 libglu1-mesa-dev amd64 9.0.2-1 [231 kB]\n",
            "Get:13 http://archive.ubuntu.com/ubuntu jammy/main amd64 libice-dev amd64 2:1.0.10-1build2 [51.4 kB]\n",
            "Get:14 http://archive.ubuntu.com/ubuntu jammy/main amd64 libsm-dev amd64 2:1.2.3-1build2 [18.1 kB]\n",
            "Get:15 http://archive.ubuntu.com/ubuntu jammy/main amd64 libxt-dev amd64 1:1.2.1-1 [396 kB]\n",
            "Get:16 http://archive.ubuntu.com/ubuntu jammy/universe amd64 freeglut3-dev amd64 2.8.1-6 [126 kB]\n",
            "Get:17 http://archive.ubuntu.com/ubuntu jammy/main amd64 libfontenc1 amd64 1:1.1.4-1build3 [14.7 kB]\n",
            "Get:18 http://archive.ubuntu.com/ubuntu jammy/main amd64 libxfont2 amd64 1:2.0.5-1build1 [94.5 kB]\n",
            "Get:19 http://archive.ubuntu.com/ubuntu jammy/main amd64 libxkbfile1 amd64 1:1.1.0-1build3 [71.8 kB]\n",
            "Get:20 http://archive.ubuntu.com/ubuntu jammy/main amd64 x11-xkb-utils amd64 7.7+5build4 [172 kB]\n",
            "Get:21 http://archive.ubuntu.com/ubuntu jammy/main amd64 xfonts-encodings all 1:1.0.5-0ubuntu2 [578 kB]\n",
            "Get:22 http://archive.ubuntu.com/ubuntu jammy/main amd64 xfonts-utils amd64 1:7.7+6build2 [94.6 kB]\n",
            "Get:23 http://archive.ubuntu.com/ubuntu jammy/main amd64 xfonts-base all 1:1.0.5 [5,896 kB]\n",
            "Get:24 http://archive.ubuntu.com/ubuntu jammy-updates/main amd64 xserver-common all 2:21.1.4-2ubuntu1.7~22.04.12 [28.7 kB]\n",
            "Get:25 http://archive.ubuntu.com/ubuntu jammy-updates/universe amd64 xvfb amd64 2:21.1.4-2ubuntu1.7~22.04.12 [864 kB]\n",
            "Fetched 9,076 kB in 2s (5,115 kB/s)\n",
            "Selecting previously unselected package freeglut3:amd64.\n",
            "(Reading database ... 124926 files and directories currently installed.)\n",
            "Preparing to unpack .../00-freeglut3_2.8.1-6_amd64.deb ...\n",
            "Unpacking freeglut3:amd64 (2.8.1-6) ...\n",
            "Selecting previously unselected package libglx-dev:amd64.\n",
            "Preparing to unpack .../01-libglx-dev_1.4.0-1_amd64.deb ...\n",
            "Unpacking libglx-dev:amd64 (1.4.0-1) ...\n",
            "Selecting previously unselected package libgl-dev:amd64.\n",
            "Preparing to unpack .../02-libgl-dev_1.4.0-1_amd64.deb ...\n",
            "Unpacking libgl-dev:amd64 (1.4.0-1) ...\n",
            "Selecting previously unselected package libglvnd-core-dev:amd64.\n",
            "Preparing to unpack .../03-libglvnd-core-dev_1.4.0-1_amd64.deb ...\n",
            "Unpacking libglvnd-core-dev:amd64 (1.4.0-1) ...\n",
            "Selecting previously unselected package libegl-dev:amd64.\n",
            "Preparing to unpack .../04-libegl-dev_1.4.0-1_amd64.deb ...\n",
            "Unpacking libegl-dev:amd64 (1.4.0-1) ...\n",
            "Selecting previously unselected package libgles1:amd64.\n",
            "Preparing to unpack .../05-libgles1_1.4.0-1_amd64.deb ...\n",
            "Unpacking libgles1:amd64 (1.4.0-1) ...\n",
            "Selecting previously unselected package libgles-dev:amd64.\n",
            "Preparing to unpack .../06-libgles-dev_1.4.0-1_amd64.deb ...\n",
            "Unpacking libgles-dev:amd64 (1.4.0-1) ...\n",
            "Selecting previously unselected package libopengl-dev:amd64.\n",
            "Preparing to unpack .../07-libopengl-dev_1.4.0-1_amd64.deb ...\n",
            "Unpacking libopengl-dev:amd64 (1.4.0-1) ...\n",
            "Selecting previously unselected package libglvnd-dev:amd64.\n",
            "Preparing to unpack .../08-libglvnd-dev_1.4.0-1_amd64.deb ...\n",
            "Unpacking libglvnd-dev:amd64 (1.4.0-1) ...\n",
            "Selecting previously unselected package libgl1-mesa-dev:amd64.\n",
            "Preparing to unpack .../09-libgl1-mesa-dev_23.2.1-1ubuntu3.1~22.04.3_amd64.deb ...\n",
            "Unpacking libgl1-mesa-dev:amd64 (23.2.1-1ubuntu3.1~22.04.3) ...\n",
            "Selecting previously unselected package libglu1-mesa:amd64.\n",
            "Preparing to unpack .../10-libglu1-mesa_9.0.2-1_amd64.deb ...\n",
            "Unpacking libglu1-mesa:amd64 (9.0.2-1) ...\n",
            "Selecting previously unselected package libglu1-mesa-dev:amd64.\n",
            "Preparing to unpack .../11-libglu1-mesa-dev_9.0.2-1_amd64.deb ...\n",
            "Unpacking libglu1-mesa-dev:amd64 (9.0.2-1) ...\n",
            "Selecting previously unselected package libice-dev:amd64.\n",
            "Preparing to unpack .../12-libice-dev_2%3a1.0.10-1build2_amd64.deb ...\n",
            "Unpacking libice-dev:amd64 (2:1.0.10-1build2) ...\n",
            "Selecting previously unselected package libsm-dev:amd64.\n",
            "Preparing to unpack .../13-libsm-dev_2%3a1.2.3-1build2_amd64.deb ...\n",
            "Unpacking libsm-dev:amd64 (2:1.2.3-1build2) ...\n",
            "Selecting previously unselected package libxt-dev:amd64.\n",
            "Preparing to unpack .../14-libxt-dev_1%3a1.2.1-1_amd64.deb ...\n",
            "Unpacking libxt-dev:amd64 (1:1.2.1-1) ...\n",
            "Selecting previously unselected package freeglut3-dev:amd64.\n",
            "Preparing to unpack .../15-freeglut3-dev_2.8.1-6_amd64.deb ...\n",
            "Unpacking freeglut3-dev:amd64 (2.8.1-6) ...\n",
            "Selecting previously unselected package libfontenc1:amd64.\n",
            "Preparing to unpack .../16-libfontenc1_1%3a1.1.4-1build3_amd64.deb ...\n",
            "Unpacking libfontenc1:amd64 (1:1.1.4-1build3) ...\n",
            "Selecting previously unselected package libxfont2:amd64.\n",
            "Preparing to unpack .../17-libxfont2_1%3a2.0.5-1build1_amd64.deb ...\n",
            "Unpacking libxfont2:amd64 (1:2.0.5-1build1) ...\n",
            "Selecting previously unselected package libxkbfile1:amd64.\n",
            "Preparing to unpack .../18-libxkbfile1_1%3a1.1.0-1build3_amd64.deb ...\n",
            "Unpacking libxkbfile1:amd64 (1:1.1.0-1build3) ...\n",
            "Selecting previously unselected package x11-xkb-utils.\n",
            "Preparing to unpack .../19-x11-xkb-utils_7.7+5build4_amd64.deb ...\n",
            "Unpacking x11-xkb-utils (7.7+5build4) ...\n",
            "Selecting previously unselected package xfonts-encodings.\n",
            "Preparing to unpack .../20-xfonts-encodings_1%3a1.0.5-0ubuntu2_all.deb ...\n",
            "Unpacking xfonts-encodings (1:1.0.5-0ubuntu2) ...\n",
            "Selecting previously unselected package xfonts-utils.\n",
            "Preparing to unpack .../21-xfonts-utils_1%3a7.7+6build2_amd64.deb ...\n",
            "Unpacking xfonts-utils (1:7.7+6build2) ...\n",
            "Selecting previously unselected package xfonts-base.\n",
            "Preparing to unpack .../22-xfonts-base_1%3a1.0.5_all.deb ...\n",
            "Unpacking xfonts-base (1:1.0.5) ...\n",
            "Selecting previously unselected package xserver-common.\n",
            "Preparing to unpack .../23-xserver-common_2%3a21.1.4-2ubuntu1.7~22.04.12_all.deb ...\n",
            "Unpacking xserver-common (2:21.1.4-2ubuntu1.7~22.04.12) ...\n",
            "Selecting previously unselected package xvfb.\n",
            "Preparing to unpack .../24-xvfb_2%3a21.1.4-2ubuntu1.7~22.04.12_amd64.deb ...\n",
            "Unpacking xvfb (2:21.1.4-2ubuntu1.7~22.04.12) ...\n",
            "Setting up freeglut3:amd64 (2.8.1-6) ...\n",
            "Setting up libglvnd-core-dev:amd64 (1.4.0-1) ...\n",
            "Setting up libice-dev:amd64 (2:1.0.10-1build2) ...\n",
            "Setting up libsm-dev:amd64 (2:1.2.3-1build2) ...\n",
            "Setting up libfontenc1:amd64 (1:1.1.4-1build3) ...\n",
            "Setting up libxt-dev:amd64 (1:1.2.1-1) ...\n",
            "Setting up libgles1:amd64 (1.4.0-1) ...\n",
            "Setting up xfonts-encodings (1:1.0.5-0ubuntu2) ...\n",
            "Setting up libglx-dev:amd64 (1.4.0-1) ...\n",
            "Setting up libglu1-mesa:amd64 (9.0.2-1) ...\n",
            "Setting up libxkbfile1:amd64 (1:1.1.0-1build3) ...\n",
            "Setting up libopengl-dev:amd64 (1.4.0-1) ...\n",
            "Setting up libxfont2:amd64 (1:2.0.5-1build1) ...\n",
            "Setting up libgl-dev:amd64 (1.4.0-1) ...\n",
            "Setting up libegl-dev:amd64 (1.4.0-1) ...\n",
            "Setting up x11-xkb-utils (7.7+5build4) ...\n",
            "Setting up xfonts-utils (1:7.7+6build2) ...\n",
            "Setting up xfonts-base (1:1.0.5) ...\n",
            "Setting up libglu1-mesa-dev:amd64 (9.0.2-1) ...\n",
            "Setting up xserver-common (2:21.1.4-2ubuntu1.7~22.04.12) ...\n",
            "Setting up libgles-dev:amd64 (1.4.0-1) ...\n",
            "Setting up xvfb (2:21.1.4-2ubuntu1.7~22.04.12) ...\n",
            "Setting up libglvnd-dev:amd64 (1.4.0-1) ...\n",
            "Setting up libgl1-mesa-dev:amd64 (23.2.1-1ubuntu3.1~22.04.3) ...\n",
            "Setting up freeglut3-dev:amd64 (2.8.1-6) ...\n",
            "Processing triggers for libc-bin (2.35-0ubuntu3.8) ...\n",
            "/sbin/ldconfig.real: /usr/local/lib/libtbb.so.12 is not a symbolic link\n",
            "\n",
            "/sbin/ldconfig.real: /usr/local/lib/libtbbbind_2_5.so.3 is not a symbolic link\n",
            "\n",
            "/sbin/ldconfig.real: /usr/local/lib/libtcm_debug.so.1 is not a symbolic link\n",
            "\n",
            "/sbin/ldconfig.real: /usr/local/lib/libtbbmalloc.so.2 is not a symbolic link\n",
            "\n",
            "/sbin/ldconfig.real: /usr/local/lib/libur_adapter_level_zero.so.0 is not a symbolic link\n",
            "\n",
            "/sbin/ldconfig.real: /usr/local/lib/libtbbmalloc_proxy.so.2 is not a symbolic link\n",
            "\n",
            "/sbin/ldconfig.real: /usr/local/lib/libhwloc.so.15 is not a symbolic link\n",
            "\n",
            "/sbin/ldconfig.real: /usr/local/lib/libtcm.so.1 is not a symbolic link\n",
            "\n",
            "/sbin/ldconfig.real: /usr/local/lib/libumf.so.0 is not a symbolic link\n",
            "\n",
            "/sbin/ldconfig.real: /usr/local/lib/libtbbbind.so.3 is not a symbolic link\n",
            "\n",
            "/sbin/ldconfig.real: /usr/local/lib/libur_loader.so.0 is not a symbolic link\n",
            "\n",
            "/sbin/ldconfig.real: /usr/local/lib/libur_adapter_opencl.so.0 is not a symbolic link\n",
            "\n",
            "/sbin/ldconfig.real: /usr/local/lib/libtbbbind_2_0.so.3 is not a symbolic link\n",
            "\n",
            "Processing triggers for man-db (2.10.2-1) ...\n",
            "Processing triggers for fontconfig (2.13.1-4.2ubuntu5) ...\n",
            "Collecting stable-baselines3>=2.0.0a4 (from stable-baselines3[extra]>=2.0.0a4)\n",
            "  Downloading stable_baselines3-2.6.0a1-py3-none-any.whl.metadata (4.8 kB)\n",
            "Requirement already satisfied: gymnasium<1.1.0,>=0.29.1 in /usr/local/lib/python3.11/dist-packages (from stable-baselines3>=2.0.0a4->stable-baselines3[extra]>=2.0.0a4) (1.0.0)\n",
            "Requirement already satisfied: numpy<3.0,>=1.20 in /usr/local/lib/python3.11/dist-packages (from stable-baselines3>=2.0.0a4->stable-baselines3[extra]>=2.0.0a4) (1.26.4)\n",
            "Requirement already satisfied: torch<3.0,>=2.3 in /usr/local/lib/python3.11/dist-packages (from stable-baselines3>=2.0.0a4->stable-baselines3[extra]>=2.0.0a4) (2.5.1+cu124)\n",
            "Requirement already satisfied: cloudpickle in /usr/local/lib/python3.11/dist-packages (from stable-baselines3>=2.0.0a4->stable-baselines3[extra]>=2.0.0a4) (3.1.1)\n",
            "Requirement already satisfied: pandas in /usr/local/lib/python3.11/dist-packages (from stable-baselines3>=2.0.0a4->stable-baselines3[extra]>=2.0.0a4) (2.2.2)\n",
            "Requirement already satisfied: matplotlib in /usr/local/lib/python3.11/dist-packages (from stable-baselines3>=2.0.0a4->stable-baselines3[extra]>=2.0.0a4) (3.10.0)\n",
            "Requirement already satisfied: opencv-python in /usr/local/lib/python3.11/dist-packages (from stable-baselines3[extra]>=2.0.0a4) (4.11.0.86)\n",
            "Requirement already satisfied: pygame in /usr/local/lib/python3.11/dist-packages (from stable-baselines3[extra]>=2.0.0a4) (2.6.1)\n",
            "Requirement already satisfied: tensorboard>=2.9.1 in /usr/local/lib/python3.11/dist-packages (from stable-baselines3[extra]>=2.0.0a4) (2.18.0)\n",
            "Requirement already satisfied: psutil in /usr/local/lib/python3.11/dist-packages (from stable-baselines3[extra]>=2.0.0a4) (5.9.5)\n",
            "Requirement already satisfied: tqdm in /usr/local/lib/python3.11/dist-packages (from stable-baselines3[extra]>=2.0.0a4) (4.67.1)\n",
            "Requirement already satisfied: rich in /usr/local/lib/python3.11/dist-packages (from stable-baselines3[extra]>=2.0.0a4) (13.9.4)\n",
            "Requirement already satisfied: ale-py>=0.9.0 in /usr/local/lib/python3.11/dist-packages (from stable-baselines3[extra]>=2.0.0a4) (0.10.1)\n",
            "Requirement already satisfied: pillow in /usr/local/lib/python3.11/dist-packages (from stable-baselines3[extra]>=2.0.0a4) (11.1.0)\n",
            "Requirement already satisfied: typing-extensions>=4.3.0 in /usr/local/lib/python3.11/dist-packages (from gymnasium<1.1.0,>=0.29.1->stable-baselines3>=2.0.0a4->stable-baselines3[extra]>=2.0.0a4) (4.12.2)\n",
            "Requirement already satisfied: farama-notifications>=0.0.1 in /usr/local/lib/python3.11/dist-packages (from gymnasium<1.1.0,>=0.29.1->stable-baselines3>=2.0.0a4->stable-baselines3[extra]>=2.0.0a4) (0.0.4)\n",
            "Requirement already satisfied: absl-py>=0.4 in /usr/local/lib/python3.11/dist-packages (from tensorboard>=2.9.1->stable-baselines3[extra]>=2.0.0a4) (1.4.0)\n",
            "Requirement already satisfied: grpcio>=1.48.2 in /usr/local/lib/python3.11/dist-packages (from tensorboard>=2.9.1->stable-baselines3[extra]>=2.0.0a4) (1.70.0)\n",
            "Requirement already satisfied: markdown>=2.6.8 in /usr/local/lib/python3.11/dist-packages (from tensorboard>=2.9.1->stable-baselines3[extra]>=2.0.0a4) (3.7)\n",
            "Requirement already satisfied: packaging in /usr/local/lib/python3.11/dist-packages (from tensorboard>=2.9.1->stable-baselines3[extra]>=2.0.0a4) (24.2)\n",
            "Requirement already satisfied: protobuf!=4.24.0,>=3.19.6 in /usr/local/lib/python3.11/dist-packages (from tensorboard>=2.9.1->stable-baselines3[extra]>=2.0.0a4) (4.25.6)\n",
            "Requirement already satisfied: setuptools>=41.0.0 in /usr/local/lib/python3.11/dist-packages (from tensorboard>=2.9.1->stable-baselines3[extra]>=2.0.0a4) (75.1.0)\n",
            "Requirement already satisfied: six>1.9 in /usr/local/lib/python3.11/dist-packages (from tensorboard>=2.9.1->stable-baselines3[extra]>=2.0.0a4) (1.17.0)\n",
            "Requirement already satisfied: tensorboard-data-server<0.8.0,>=0.7.0 in /usr/local/lib/python3.11/dist-packages (from tensorboard>=2.9.1->stable-baselines3[extra]>=2.0.0a4) (0.7.2)\n",
            "Requirement already satisfied: werkzeug>=1.0.1 in /usr/local/lib/python3.11/dist-packages (from tensorboard>=2.9.1->stable-baselines3[extra]>=2.0.0a4) (3.1.3)\n",
            "Requirement already satisfied: filelock in /usr/local/lib/python3.11/dist-packages (from torch<3.0,>=2.3->stable-baselines3>=2.0.0a4->stable-baselines3[extra]>=2.0.0a4) (3.17.0)\n",
            "Requirement already satisfied: networkx in /usr/local/lib/python3.11/dist-packages (from torch<3.0,>=2.3->stable-baselines3>=2.0.0a4->stable-baselines3[extra]>=2.0.0a4) (3.4.2)\n",
            "Requirement already satisfied: jinja2 in /usr/local/lib/python3.11/dist-packages (from torch<3.0,>=2.3->stable-baselines3>=2.0.0a4->stable-baselines3[extra]>=2.0.0a4) (3.1.5)\n",
            "Requirement already satisfied: fsspec in /usr/local/lib/python3.11/dist-packages (from torch<3.0,>=2.3->stable-baselines3>=2.0.0a4->stable-baselines3[extra]>=2.0.0a4) (2024.10.0)\n",
            "Collecting nvidia-cuda-nvrtc-cu12==12.4.127 (from torch<3.0,>=2.3->stable-baselines3>=2.0.0a4->stable-baselines3[extra]>=2.0.0a4)\n",
            "  Downloading nvidia_cuda_nvrtc_cu12-12.4.127-py3-none-manylinux2014_x86_64.whl.metadata (1.5 kB)\n",
            "Collecting nvidia-cuda-runtime-cu12==12.4.127 (from torch<3.0,>=2.3->stable-baselines3>=2.0.0a4->stable-baselines3[extra]>=2.0.0a4)\n",
            "  Downloading nvidia_cuda_runtime_cu12-12.4.127-py3-none-manylinux2014_x86_64.whl.metadata (1.5 kB)\n",
            "Collecting nvidia-cuda-cupti-cu12==12.4.127 (from torch<3.0,>=2.3->stable-baselines3>=2.0.0a4->stable-baselines3[extra]>=2.0.0a4)\n",
            "  Downloading nvidia_cuda_cupti_cu12-12.4.127-py3-none-manylinux2014_x86_64.whl.metadata (1.6 kB)\n",
            "Collecting nvidia-cudnn-cu12==9.1.0.70 (from torch<3.0,>=2.3->stable-baselines3>=2.0.0a4->stable-baselines3[extra]>=2.0.0a4)\n",
            "  Downloading nvidia_cudnn_cu12-9.1.0.70-py3-none-manylinux2014_x86_64.whl.metadata (1.6 kB)\n",
            "Collecting nvidia-cublas-cu12==12.4.5.8 (from torch<3.0,>=2.3->stable-baselines3>=2.0.0a4->stable-baselines3[extra]>=2.0.0a4)\n",
            "  Downloading nvidia_cublas_cu12-12.4.5.8-py3-none-manylinux2014_x86_64.whl.metadata (1.5 kB)\n",
            "Collecting nvidia-cufft-cu12==11.2.1.3 (from torch<3.0,>=2.3->stable-baselines3>=2.0.0a4->stable-baselines3[extra]>=2.0.0a4)\n",
            "  Downloading nvidia_cufft_cu12-11.2.1.3-py3-none-manylinux2014_x86_64.whl.metadata (1.5 kB)\n",
            "Collecting nvidia-curand-cu12==10.3.5.147 (from torch<3.0,>=2.3->stable-baselines3>=2.0.0a4->stable-baselines3[extra]>=2.0.0a4)\n",
            "  Downloading nvidia_curand_cu12-10.3.5.147-py3-none-manylinux2014_x86_64.whl.metadata (1.5 kB)\n",
            "Collecting nvidia-cusolver-cu12==11.6.1.9 (from torch<3.0,>=2.3->stable-baselines3>=2.0.0a4->stable-baselines3[extra]>=2.0.0a4)\n",
            "  Downloading nvidia_cusolver_cu12-11.6.1.9-py3-none-manylinux2014_x86_64.whl.metadata (1.6 kB)\n",
            "Collecting nvidia-cusparse-cu12==12.3.1.170 (from torch<3.0,>=2.3->stable-baselines3>=2.0.0a4->stable-baselines3[extra]>=2.0.0a4)\n",
            "  Downloading nvidia_cusparse_cu12-12.3.1.170-py3-none-manylinux2014_x86_64.whl.metadata (1.6 kB)\n",
            "Requirement already satisfied: nvidia-nccl-cu12==2.21.5 in /usr/local/lib/python3.11/dist-packages (from torch<3.0,>=2.3->stable-baselines3>=2.0.0a4->stable-baselines3[extra]>=2.0.0a4) (2.21.5)\n",
            "Requirement already satisfied: nvidia-nvtx-cu12==12.4.127 in /usr/local/lib/python3.11/dist-packages (from torch<3.0,>=2.3->stable-baselines3>=2.0.0a4->stable-baselines3[extra]>=2.0.0a4) (12.4.127)\n",
            "Collecting nvidia-nvjitlink-cu12==12.4.127 (from torch<3.0,>=2.3->stable-baselines3>=2.0.0a4->stable-baselines3[extra]>=2.0.0a4)\n",
            "  Downloading nvidia_nvjitlink_cu12-12.4.127-py3-none-manylinux2014_x86_64.whl.metadata (1.5 kB)\n",
            "Requirement already satisfied: triton==3.1.0 in /usr/local/lib/python3.11/dist-packages (from torch<3.0,>=2.3->stable-baselines3>=2.0.0a4->stable-baselines3[extra]>=2.0.0a4) (3.1.0)\n",
            "Requirement already satisfied: sympy==1.13.1 in /usr/local/lib/python3.11/dist-packages (from torch<3.0,>=2.3->stable-baselines3>=2.0.0a4->stable-baselines3[extra]>=2.0.0a4) (1.13.1)\n",
            "Requirement already satisfied: mpmath<1.4,>=1.1.0 in /usr/local/lib/python3.11/dist-packages (from sympy==1.13.1->torch<3.0,>=2.3->stable-baselines3>=2.0.0a4->stable-baselines3[extra]>=2.0.0a4) (1.3.0)\n",
            "Requirement already satisfied: contourpy>=1.0.1 in /usr/local/lib/python3.11/dist-packages (from matplotlib->stable-baselines3>=2.0.0a4->stable-baselines3[extra]>=2.0.0a4) (1.3.1)\n",
            "Requirement already satisfied: cycler>=0.10 in /usr/local/lib/python3.11/dist-packages (from matplotlib->stable-baselines3>=2.0.0a4->stable-baselines3[extra]>=2.0.0a4) (0.12.1)\n",
            "Requirement already satisfied: fonttools>=4.22.0 in /usr/local/lib/python3.11/dist-packages (from matplotlib->stable-baselines3>=2.0.0a4->stable-baselines3[extra]>=2.0.0a4) (4.56.0)\n",
            "Requirement already satisfied: kiwisolver>=1.3.1 in /usr/local/lib/python3.11/dist-packages (from matplotlib->stable-baselines3>=2.0.0a4->stable-baselines3[extra]>=2.0.0a4) (1.4.8)\n",
            "Requirement already satisfied: pyparsing>=2.3.1 in /usr/local/lib/python3.11/dist-packages (from matplotlib->stable-baselines3>=2.0.0a4->stable-baselines3[extra]>=2.0.0a4) (3.2.1)\n",
            "Requirement already satisfied: python-dateutil>=2.7 in /usr/local/lib/python3.11/dist-packages (from matplotlib->stable-baselines3>=2.0.0a4->stable-baselines3[extra]>=2.0.0a4) (2.8.2)\n",
            "Requirement already satisfied: pytz>=2020.1 in /usr/local/lib/python3.11/dist-packages (from pandas->stable-baselines3>=2.0.0a4->stable-baselines3[extra]>=2.0.0a4) (2025.1)\n",
            "Requirement already satisfied: tzdata>=2022.7 in /usr/local/lib/python3.11/dist-packages (from pandas->stable-baselines3>=2.0.0a4->stable-baselines3[extra]>=2.0.0a4) (2025.1)\n",
            "Requirement already satisfied: markdown-it-py>=2.2.0 in /usr/local/lib/python3.11/dist-packages (from rich->stable-baselines3[extra]>=2.0.0a4) (3.0.0)\n",
            "Requirement already satisfied: pygments<3.0.0,>=2.13.0 in /usr/local/lib/python3.11/dist-packages (from rich->stable-baselines3[extra]>=2.0.0a4) (2.18.0)\n",
            "Requirement already satisfied: mdurl~=0.1 in /usr/local/lib/python3.11/dist-packages (from markdown-it-py>=2.2.0->rich->stable-baselines3[extra]>=2.0.0a4) (0.1.2)\n",
            "Requirement already satisfied: MarkupSafe>=2.1.1 in /usr/local/lib/python3.11/dist-packages (from werkzeug>=1.0.1->tensorboard>=2.9.1->stable-baselines3[extra]>=2.0.0a4) (3.0.2)\n",
            "Downloading stable_baselines3-2.6.0a1-py3-none-any.whl (184 kB)\n",
            "\u001b[2K   \u001b[90m━━━━━━━━━━━━━━━━━━━━━━━━━━━━━━━━━━━━━━━━\u001b[0m \u001b[32m184.5/184.5 kB\u001b[0m \u001b[31m6.4 MB/s\u001b[0m eta \u001b[36m0:00:00\u001b[0m\n",
            "\u001b[?25hDownloading nvidia_cublas_cu12-12.4.5.8-py3-none-manylinux2014_x86_64.whl (363.4 MB)\n",
            "\u001b[2K   \u001b[90m━━━━━━━━━━━━━━━━━━━━━━━━━━━━━━━━━━━━━━━━\u001b[0m \u001b[32m363.4/363.4 MB\u001b[0m \u001b[31m4.3 MB/s\u001b[0m eta \u001b[36m0:00:00\u001b[0m\n",
            "\u001b[?25hDownloading nvidia_cuda_cupti_cu12-12.4.127-py3-none-manylinux2014_x86_64.whl (13.8 MB)\n",
            "\u001b[2K   \u001b[90m━━━━━━━━━━━━━━━━━━━━━━━━━━━━━━━━━━━━━━━━\u001b[0m \u001b[32m13.8/13.8 MB\u001b[0m \u001b[31m106.1 MB/s\u001b[0m eta \u001b[36m0:00:00\u001b[0m\n",
            "\u001b[?25hDownloading nvidia_cuda_nvrtc_cu12-12.4.127-py3-none-manylinux2014_x86_64.whl (24.6 MB)\n",
            "\u001b[2K   \u001b[90m━━━━━━━━━━━━━━━━━━━━━━━━━━━━━━━━━━━━━━━━\u001b[0m \u001b[32m24.6/24.6 MB\u001b[0m \u001b[31m84.8 MB/s\u001b[0m eta \u001b[36m0:00:00\u001b[0m\n",
            "\u001b[?25hDownloading nvidia_cuda_runtime_cu12-12.4.127-py3-none-manylinux2014_x86_64.whl (883 kB)\n",
            "\u001b[2K   \u001b[90m━━━━━━━━━━━━━━━━━━━━━━━━━━━━━━━━━━━━━━━━\u001b[0m \u001b[32m883.7/883.7 kB\u001b[0m \u001b[31m59.5 MB/s\u001b[0m eta \u001b[36m0:00:00\u001b[0m\n",
            "\u001b[?25hDownloading nvidia_cudnn_cu12-9.1.0.70-py3-none-manylinux2014_x86_64.whl (664.8 MB)\n",
            "\u001b[2K   \u001b[90m━━━━━━━━━━━━━━━━━━━━━━━━━━━━━━━━━━━━━━━━\u001b[0m \u001b[32m664.8/664.8 MB\u001b[0m \u001b[31m2.0 MB/s\u001b[0m eta \u001b[36m0:00:00\u001b[0m\n",
            "\u001b[?25hDownloading nvidia_cufft_cu12-11.2.1.3-py3-none-manylinux2014_x86_64.whl (211.5 MB)\n",
            "\u001b[2K   \u001b[90m━━━━━━━━━━━━━━━━━━━━━━━━━━━━━━━━━━━━━━━━\u001b[0m \u001b[32m211.5/211.5 MB\u001b[0m \u001b[31m5.6 MB/s\u001b[0m eta \u001b[36m0:00:00\u001b[0m\n",
            "\u001b[?25hDownloading nvidia_curand_cu12-10.3.5.147-py3-none-manylinux2014_x86_64.whl (56.3 MB)\n",
            "\u001b[2K   \u001b[90m━━━━━━━━━━━━━━━━━━━━━━━━━━━━━━━━━━━━━━━━\u001b[0m \u001b[32m56.3/56.3 MB\u001b[0m \u001b[31m15.8 MB/s\u001b[0m eta \u001b[36m0:00:00\u001b[0m\n",
            "\u001b[?25hDownloading nvidia_cusolver_cu12-11.6.1.9-py3-none-manylinux2014_x86_64.whl (127.9 MB)\n",
            "\u001b[2K   \u001b[90m━━━━━━━━━━━━━━━━━━━━━━━━━━━━━━━━━━━━━━━━\u001b[0m \u001b[32m127.9/127.9 MB\u001b[0m \u001b[31m7.2 MB/s\u001b[0m eta \u001b[36m0:00:00\u001b[0m\n",
            "\u001b[?25hDownloading nvidia_cusparse_cu12-12.3.1.170-py3-none-manylinux2014_x86_64.whl (207.5 MB)\n",
            "\u001b[2K   \u001b[90m━━━━━━━━━━━━━━━━━━━━━━━━━━━━━━━━━━━━━━━━\u001b[0m \u001b[32m207.5/207.5 MB\u001b[0m \u001b[31m5.6 MB/s\u001b[0m eta \u001b[36m0:00:00\u001b[0m\n",
            "\u001b[?25hDownloading nvidia_nvjitlink_cu12-12.4.127-py3-none-manylinux2014_x86_64.whl (21.1 MB)\n",
            "\u001b[2K   \u001b[90m━━━━━━━━━━━━━━━━━━━━━━━━━━━━━━━━━━━━━━━━\u001b[0m \u001b[32m21.1/21.1 MB\u001b[0m \u001b[31m39.7 MB/s\u001b[0m eta \u001b[36m0:00:00\u001b[0m\n",
            "\u001b[?25hInstalling collected packages: nvidia-nvjitlink-cu12, nvidia-curand-cu12, nvidia-cufft-cu12, nvidia-cuda-runtime-cu12, nvidia-cuda-nvrtc-cu12, nvidia-cuda-cupti-cu12, nvidia-cublas-cu12, nvidia-cusparse-cu12, nvidia-cudnn-cu12, nvidia-cusolver-cu12, stable-baselines3\n",
            "  Attempting uninstall: nvidia-nvjitlink-cu12\n",
            "    Found existing installation: nvidia-nvjitlink-cu12 12.5.82\n",
            "    Uninstalling nvidia-nvjitlink-cu12-12.5.82:\n",
            "      Successfully uninstalled nvidia-nvjitlink-cu12-12.5.82\n",
            "  Attempting uninstall: nvidia-curand-cu12\n",
            "    Found existing installation: nvidia-curand-cu12 10.3.6.82\n",
            "    Uninstalling nvidia-curand-cu12-10.3.6.82:\n",
            "      Successfully uninstalled nvidia-curand-cu12-10.3.6.82\n",
            "  Attempting uninstall: nvidia-cufft-cu12\n",
            "    Found existing installation: nvidia-cufft-cu12 11.2.3.61\n",
            "    Uninstalling nvidia-cufft-cu12-11.2.3.61:\n",
            "      Successfully uninstalled nvidia-cufft-cu12-11.2.3.61\n",
            "  Attempting uninstall: nvidia-cuda-runtime-cu12\n",
            "    Found existing installation: nvidia-cuda-runtime-cu12 12.5.82\n",
            "    Uninstalling nvidia-cuda-runtime-cu12-12.5.82:\n",
            "      Successfully uninstalled nvidia-cuda-runtime-cu12-12.5.82\n",
            "  Attempting uninstall: nvidia-cuda-nvrtc-cu12\n",
            "    Found existing installation: nvidia-cuda-nvrtc-cu12 12.5.82\n",
            "    Uninstalling nvidia-cuda-nvrtc-cu12-12.5.82:\n",
            "      Successfully uninstalled nvidia-cuda-nvrtc-cu12-12.5.82\n",
            "  Attempting uninstall: nvidia-cuda-cupti-cu12\n",
            "    Found existing installation: nvidia-cuda-cupti-cu12 12.5.82\n",
            "    Uninstalling nvidia-cuda-cupti-cu12-12.5.82:\n",
            "      Successfully uninstalled nvidia-cuda-cupti-cu12-12.5.82\n",
            "  Attempting uninstall: nvidia-cublas-cu12\n",
            "    Found existing installation: nvidia-cublas-cu12 12.5.3.2\n",
            "    Uninstalling nvidia-cublas-cu12-12.5.3.2:\n",
            "      Successfully uninstalled nvidia-cublas-cu12-12.5.3.2\n",
            "  Attempting uninstall: nvidia-cusparse-cu12\n",
            "    Found existing installation: nvidia-cusparse-cu12 12.5.1.3\n",
            "    Uninstalling nvidia-cusparse-cu12-12.5.1.3:\n",
            "      Successfully uninstalled nvidia-cusparse-cu12-12.5.1.3\n",
            "  Attempting uninstall: nvidia-cudnn-cu12\n",
            "    Found existing installation: nvidia-cudnn-cu12 9.3.0.75\n",
            "    Uninstalling nvidia-cudnn-cu12-9.3.0.75:\n",
            "      Successfully uninstalled nvidia-cudnn-cu12-9.3.0.75\n",
            "  Attempting uninstall: nvidia-cusolver-cu12\n",
            "    Found existing installation: nvidia-cusolver-cu12 11.6.3.83\n",
            "    Uninstalling nvidia-cusolver-cu12-11.6.3.83:\n",
            "      Successfully uninstalled nvidia-cusolver-cu12-11.6.3.83\n",
            "Successfully installed nvidia-cublas-cu12-12.4.5.8 nvidia-cuda-cupti-cu12-12.4.127 nvidia-cuda-nvrtc-cu12-12.4.127 nvidia-cuda-runtime-cu12-12.4.127 nvidia-cudnn-cu12-9.1.0.70 nvidia-cufft-cu12-11.2.1.3 nvidia-curand-cu12-10.3.5.147 nvidia-cusolver-cu12-11.6.1.9 nvidia-cusparse-cu12-12.3.1.170 nvidia-nvjitlink-cu12-12.4.127 stable-baselines3-2.6.0a1\n"
          ]
        }
      ],
      "source": [
        "!apt-get update && apt-get install ffmpeg freeglut3-dev xvfb  # For visualization\n",
        "!pip install \"stable-baselines3[extra]>=2.0.0a4\""
      ]
    },
    {
      "cell_type": "code",
      "execution_count": 2,
      "metadata": {
        "colab": {
          "base_uri": "https://localhost:8080/"
        },
        "id": "U29X1-B-AIKE",
        "outputId": "4ccefb6d-ffe9-44ca-9283-b17830cb7b86"
      },
      "outputs": [
        {
          "output_type": "stream",
          "name": "stdout",
          "text": [
            "stable_baselines3.__version__='2.6.0a1'\n"
          ]
        }
      ],
      "source": [
        "import stable_baselines3\n",
        "\n",
        "print(f\"{stable_baselines3.__version__=}\")"
      ]
    },
    {
      "cell_type": "markdown",
      "metadata": {
        "id": "FtY8FhliLsGm"
      },
      "source": [
        "## Imports"
      ]
    },
    {
      "cell_type": "markdown",
      "metadata": {
        "id": "gcX8hEcaUpR0"
      },
      "source": [
        "Stable-Baselines works on environments that follow the [gym interface](https://stable-baselines.readthedocs.io/en/master/guide/custom_env.html).\n",
        "You can find a list of available environment [here](https://gym.openai.com/envs/#classic_control).\n",
        "\n",
        "It is also recommended to check the [source code](https://github.com/openai/gym) to learn more about the observation and action space of each env, as gym does not have a proper documentation.\n",
        "Not all algorithms can work with all action spaces, you can find more in this [recap table](https://stable-baselines.readthedocs.io/en/master/guide/algos.html)"
      ]
    },
    {
      "cell_type": "code",
      "execution_count": 3,
      "metadata": {
        "colab": {
          "base_uri": "https://localhost:8080/"
        },
        "id": "BIedd7Pz9sOs",
        "outputId": "57fa9b85-3b76-459e-b234-eb30adf5b2a8"
      },
      "outputs": [
        {
          "output_type": "stream",
          "name": "stdout",
          "text": [
            "gym.__version__='1.0.0'\n"
          ]
        }
      ],
      "source": [
        "import gymnasium as gym\n",
        "import numpy as np\n",
        "\n",
        "print(f\"{gym.__version__=}\")"
      ]
    },
    {
      "cell_type": "markdown",
      "metadata": {
        "id": "Ae32CtgzTG3R"
      },
      "source": [
        "The first thing you need to import is the RL model, check the documentation to know what you can use on which problem"
      ]
    },
    {
      "cell_type": "code",
      "execution_count": 4,
      "metadata": {
        "id": "R7tKaBFrTR0a"
      },
      "outputs": [],
      "source": [
        "from stable_baselines3 import PPO"
      ]
    },
    {
      "cell_type": "markdown",
      "metadata": {
        "id": "-0_8OQbOTTNT"
      },
      "source": [
        "The next thing you need to import is the policy class that will be used to create the networks (for the policy/value functions).\n",
        "This step is optional as you can directly use strings in the constructor:\n",
        "\n",
        "```PPO('MlpPolicy', env)``` instead of ```PPO(MlpPolicy, env)```\n",
        "\n",
        "Note that some algorithms like `SAC` have their own `MlpPolicy`, that's why using string for the policy is the recommened option."
      ]
    },
    {
      "cell_type": "code",
      "execution_count": 5,
      "metadata": {
        "id": "ROUJr675TT01"
      },
      "outputs": [],
      "source": [
        "from stable_baselines3.ppo import MlpPolicy"
      ]
    },
    {
      "cell_type": "markdown",
      "metadata": {
        "id": "RapkYvTXL7Cd"
      },
      "source": [
        "## Create the Gym env and instantiate the agent\n",
        "\n",
        "For this example, we will use CartPole environment, a classic control problem.\n",
        "\n",
        "\"A pole is attached by an un-actuated joint to a cart, which moves along a frictionless track. The system is controlled by applying a force of +1 or -1 to the cart. The pendulum starts upright, and the goal is to prevent it from falling over. A reward of +1 is provided for every timestep that the pole remains upright. \"\n",
        "\n",
        "Cartpole environment: [https://gymnasium.farama.org/environments/classic_control/cart_pole/](https://gymnasium.farama.org/environments/classic_control/cart_pole/)\n",
        "\n",
        "![Cartpole](https://cdn-images-1.medium.com/max/1143/1*h4WTQNVIsvMXJTCpXm_TAw.gif)\n",
        "\n",
        "Note: vectorized environments allow to easily multiprocess training. In this example, we are using only one process, hence the DummyVecEnv.\n",
        "\n",
        "We chose the MlpPolicy because input of CartPole is a feature vector, not images.\n",
        "\n",
        "The type of action to use (discrete/continuous) will be automatically deduced from the environment action space\n",
        "\n",
        "\n",
        "Here we are using the [Proximal Policy Optimization](https://stable-baselines.readthedocs.io/en/master/modules/ppo2.html) algorithm, which is an Actor-Critic method: it uses a value function to improve the policy gradient descent (by reducing the variance).\n",
        "\n",
        "It combines ideas from [A2C](https://stable-baselines.readthedocs.io/en/master/modules/a2c.html) (having multiple workers and using an entropy bonus for exploration) and [TRPO](https://stable-baselines.readthedocs.io/en/master/modules/trpo.html) (it uses a trust region to improve stability and avoid catastrophic drops in performance).\n",
        "\n",
        "PPO is an on-policy algorithm, which means that the trajectories used to update the networks must be collected using the latest policy.\n",
        "It is usually less sample efficient than off-policy alorithms like [DQN](https://stable-baselines.readthedocs.io/en/master/modules/dqn.html), [SAC](https://stable-baselines.readthedocs.io/en/master/modules/sac.html) or [TD3](https://stable-baselines.readthedocs.io/en/master/modules/td3.html), but is much faster regarding wall-clock time.\n"
      ]
    },
    {
      "cell_type": "code",
      "execution_count": 6,
      "metadata": {
        "colab": {
          "base_uri": "https://localhost:8080/"
        },
        "id": "pUWGZp3i9wyf",
        "outputId": "fdb5b06a-f861-4219-bd05-b95e722d608f"
      },
      "outputs": [
        {
          "output_type": "stream",
          "name": "stderr",
          "text": [
            "/usr/local/lib/python3.11/dist-packages/stable_baselines3/common/on_policy_algorithm.py:150: UserWarning: You are trying to run PPO on the GPU, but it is primarily intended to run on the CPU when not using a CNN policy (you are using ActorCriticPolicy which should be a MlpPolicy). See https://github.com/DLR-RM/stable-baselines3/issues/1245 for more info. You can pass `device='cpu'` or `export CUDA_VISIBLE_DEVICES=` to force using the CPU.Note: The model will train, but the GPU utilization will be poor and the training might take longer than on CPU.\n",
            "  warnings.warn(\n"
          ]
        }
      ],
      "source": [
        "env = gym.make(\"CartPole-v1\", render_mode=\"rgb_array\")\n",
        "model = PPO(MlpPolicy, env, verbose=0)"
      ]
    },
    {
      "cell_type": "markdown",
      "metadata": {
        "id": "4efFdrQ7MBvl"
      },
      "source": [
        "We create a helper function to evaluate the agent:"
      ]
    },
    {
      "cell_type": "code",
      "execution_count": 7,
      "metadata": {
        "id": "63M8mSKR-6Zt"
      },
      "outputs": [],
      "source": [
        "def evaluate(model, num_episodes=100, deterministic=True):\n",
        "    \"\"\"\n",
        "    Evaluate a RL agent\n",
        "    :param model: (BaseRLModel object) the RL Agent\n",
        "    :param num_episodes: (int) number of episodes to evaluate it\n",
        "    :return: (float) Mean reward for the last num_episodes\n",
        "    \"\"\"\n",
        "    # This function will only work for a single Environment\n",
        "    vec_env = model.get_env()\n",
        "    all_episode_rewards = []\n",
        "    for i in range(num_episodes):\n",
        "        episode_rewards = []\n",
        "        done = False\n",
        "        obs = vec_env.reset()\n",
        "        while not done:\n",
        "            # _states are only useful when using LSTM policies\n",
        "            action, _states = model.predict(obs, deterministic=deterministic)\n",
        "            # here, action, rewards and dones are arrays\n",
        "            # because we are using vectorized env\n",
        "            # also note that the step only returns a 4-tuple, as the env that is returned\n",
        "            # by model.get_env() is an sb3 vecenv that wraps the >v0.26 API\n",
        "            obs, reward, done, info = vec_env.step(action)\n",
        "            episode_rewards.append(reward)\n",
        "\n",
        "        all_episode_rewards.append(sum(episode_rewards))\n",
        "\n",
        "    mean_episode_reward = np.mean(all_episode_rewards)\n",
        "    print(\"Mean reward:\", mean_episode_reward, \"Num episodes:\", num_episodes)\n",
        "\n",
        "    return mean_episode_reward"
      ]
    },
    {
      "cell_type": "markdown",
      "metadata": {
        "id": "6hkyafs--gJz"
      },
      "source": [
        "In fact, Stable-Baselines3 already provides you with that helper:"
      ]
    },
    {
      "cell_type": "code",
      "execution_count": 8,
      "metadata": {
        "id": "s6ZNldIR-fce"
      },
      "outputs": [],
      "source": [
        "from stable_baselines3.common.evaluation import evaluate_policy"
      ]
    },
    {
      "cell_type": "markdown",
      "metadata": {
        "id": "zjEVOIY8NVeK"
      },
      "source": [
        "Let's evaluate the un-trained agent, this should be a random agent."
      ]
    },
    {
      "cell_type": "code",
      "execution_count": 9,
      "metadata": {
        "colab": {
          "base_uri": "https://localhost:8080/"
        },
        "id": "xDHLMA6NFk95",
        "outputId": "70aaeb81-68b8-4279-8454-2aa530c02550"
      },
      "outputs": [
        {
          "output_type": "stream",
          "name": "stderr",
          "text": [
            "/usr/local/lib/python3.11/dist-packages/stable_baselines3/common/evaluation.py:67: UserWarning: Evaluation environment is not wrapped with a ``Monitor`` wrapper. This may result in reporting modified episode lengths and rewards, if other wrappers happen to modify these. Consider wrapping environment first with ``Monitor`` wrapper.\n",
            "  warnings.warn(\n"
          ]
        },
        {
          "output_type": "stream",
          "name": "stdout",
          "text": [
            "mean_reward:30.57 +/- 9.05\n"
          ]
        }
      ],
      "source": [
        "# Use a separate environement for evaluation\n",
        "eval_env = gym.make(\"CartPole-v1\", render_mode=\"rgb_array\")\n",
        "\n",
        "# Random Agent, before training\n",
        "mean_reward, std_reward = evaluate_policy(model, eval_env, n_eval_episodes=100)\n",
        "\n",
        "print(f\"mean_reward:{mean_reward:.2f} +/- {std_reward:.2f}\")"
      ]
    },
    {
      "cell_type": "markdown",
      "metadata": {
        "id": "r5UoXTZPNdFE"
      },
      "source": [
        "## Train the agent and evaluate it"
      ]
    },
    {
      "cell_type": "code",
      "execution_count": 10,
      "metadata": {
        "colab": {
          "base_uri": "https://localhost:8080/"
        },
        "id": "e4cfSXIB-pTF",
        "outputId": "64a46a40-c78e-41b7-eaaf-ef62c27e7cee"
      },
      "outputs": [
        {
          "output_type": "execute_result",
          "data": {
            "text/plain": [
              "<stable_baselines3.ppo.ppo.PPO at 0x7cb9d7619a90>"
            ]
          },
          "metadata": {},
          "execution_count": 10
        }
      ],
      "source": [
        "# Train the agent for 10000 steps\n",
        "model.learn(total_timesteps=10_000)"
      ]
    },
    {
      "cell_type": "code",
      "execution_count": 11,
      "metadata": {
        "colab": {
          "base_uri": "https://localhost:8080/"
        },
        "id": "ygl_gVmV_QP7",
        "outputId": "d5d54f86-0895-45d7-fb53-379d383f5447"
      },
      "outputs": [
        {
          "output_type": "stream",
          "name": "stdout",
          "text": [
            "mean_reward:394.28 +/- 96.00\n"
          ]
        }
      ],
      "source": [
        "# Evaluate the trained agent\n",
        "mean_reward, std_reward = evaluate_policy(model, eval_env, n_eval_episodes=100)\n",
        "\n",
        "print(f\"mean_reward:{mean_reward:.2f} +/- {std_reward:.2f}\")"
      ]
    },
    {
      "cell_type": "markdown",
      "metadata": {
        "id": "A00W6yY3NkHG"
      },
      "source": [
        "Apparently the training went well, the mean reward increased a lot !"
      ]
    },
    {
      "cell_type": "markdown",
      "source": [],
      "metadata": {
        "id": "CZaFLm7BBjy3"
      }
    },
    {
      "cell_type": "markdown",
      "metadata": {
        "id": "xVm9QPNVwKXN"
      },
      "source": [
        "### Prepare video recording"
      ]
    },
    {
      "cell_type": "code",
      "execution_count": 12,
      "metadata": {
        "id": "MPyfQxD5z26J"
      },
      "outputs": [],
      "source": [
        "# Set up fake display; otherwise rendering will fail\n",
        "import os\n",
        "os.system(\"Xvfb :1 -screen 0 1024x768x24 &\")\n",
        "os.environ['DISPLAY'] = ':1'"
      ]
    },
    {
      "cell_type": "code",
      "execution_count": 13,
      "metadata": {
        "id": "SLzXxO8VMD6N"
      },
      "outputs": [],
      "source": [
        "import base64\n",
        "from pathlib import Path\n",
        "\n",
        "from IPython import display as ipythondisplay\n",
        "\n",
        "\n",
        "def show_videos(video_path=\"\", prefix=\"\"):\n",
        "    \"\"\"\n",
        "    Taken from https://github.com/eleurent/highway-env\n",
        "\n",
        "    :param video_path: (str) Path to the folder containing videos\n",
        "    :param prefix: (str) Filter the video, showing only the only starting with this prefix\n",
        "    \"\"\"\n",
        "    html = []\n",
        "    for mp4 in Path(video_path).glob(\"{}*.mp4\".format(prefix)):\n",
        "        video_b64 = base64.b64encode(mp4.read_bytes())\n",
        "        html.append(\n",
        "            \"\"\"<video alt=\"{}\" autoplay\n",
        "                    loop controls style=\"height: 400px;\">\n",
        "                    <source src=\"data:video/mp4;base64,{}\" type=\"video/mp4\" />\n",
        "                </video>\"\"\".format(\n",
        "                mp4, video_b64.decode(\"ascii\")\n",
        "            )\n",
        "        )\n",
        "    ipythondisplay.display(ipythondisplay.HTML(data=\"<br>\".join(html)))"
      ]
    },
    {
      "cell_type": "markdown",
      "metadata": {
        "id": "LTRNUfulOGaF"
      },
      "source": [
        "We will record a video using the [VecVideoRecorder](https://stable-baselines.readthedocs.io/en/master/guide/vec_envs.html#vecvideorecorder) wrapper, you will learn about those wrapper in the next notebook."
      ]
    },
    {
      "cell_type": "code",
      "execution_count": 14,
      "metadata": {
        "id": "Trag9dQpOIhx"
      },
      "outputs": [],
      "source": [
        "from stable_baselines3.common.vec_env import VecVideoRecorder, DummyVecEnv\n",
        "\n",
        "\n",
        "def record_video(env_id, model, video_length=500, prefix=\"\", video_folder=\"videos/\"):\n",
        "    \"\"\"\n",
        "    :param env_id: (str)\n",
        "    :param model: (RL model)\n",
        "    :param video_length: (int)\n",
        "    :param prefix: (str)\n",
        "    :param video_folder: (str)\n",
        "    \"\"\"\n",
        "    eval_env = DummyVecEnv([lambda: gym.make(\"CartPole-v1\", render_mode=\"rgb_array\")])\n",
        "    # Start the video at step=0 and record 500 steps\n",
        "    eval_env = VecVideoRecorder(\n",
        "        eval_env,\n",
        "        video_folder=video_folder,\n",
        "        record_video_trigger=lambda step: step == 0,\n",
        "        video_length=video_length,\n",
        "        name_prefix=prefix,\n",
        "    )\n",
        "\n",
        "    obs = eval_env.reset()\n",
        "    for _ in range(video_length):\n",
        "        action, _ = model.predict(obs)\n",
        "        obs, _, _, _ = eval_env.step(action)\n",
        "\n",
        "    # Close the video recorder\n",
        "    eval_env.close()"
      ]
    },
    {
      "cell_type": "markdown",
      "metadata": {
        "id": "KOObbeu5MMlR"
      },
      "source": [
        "### Visualize trained agent\n",
        "\n"
      ]
    },
    {
      "cell_type": "code",
      "execution_count": 15,
      "metadata": {
        "colab": {
          "base_uri": "https://localhost:8080/"
        },
        "id": "iATu7AiyMQW2",
        "outputId": "6bd987e3-cf6e-4902-881e-16f7f1752a62"
      },
      "outputs": [
        {
          "output_type": "stream",
          "name": "stderr",
          "text": [
            "/usr/local/lib/python3.11/dist-packages/pygame/pkgdata.py:25: DeprecationWarning: pkg_resources is deprecated as an API. See https://setuptools.pypa.io/en/latest/pkg_resources.html\n",
            "  from pkg_resources import resource_stream, resource_exists\n",
            "/usr/local/lib/python3.11/dist-packages/pkg_resources/__init__.py:3154: DeprecationWarning: Deprecated call to `pkg_resources.declare_namespace('google')`.\n",
            "Implementing implicit namespace packages (as specified in PEP 420) is preferred to `pkg_resources.declare_namespace`. See https://setuptools.pypa.io/en/latest/references/keywords.html#keyword-namespace-packages\n",
            "  declare_namespace(pkg)\n",
            "/usr/local/lib/python3.11/dist-packages/pkg_resources/__init__.py:3154: DeprecationWarning: Deprecated call to `pkg_resources.declare_namespace('google.cloud')`.\n",
            "Implementing implicit namespace packages (as specified in PEP 420) is preferred to `pkg_resources.declare_namespace`. See https://setuptools.pypa.io/en/latest/references/keywords.html#keyword-namespace-packages\n",
            "  declare_namespace(pkg)\n",
            "/usr/local/lib/python3.11/dist-packages/pkg_resources/__init__.py:3154: DeprecationWarning: Deprecated call to `pkg_resources.declare_namespace('sphinxcontrib')`.\n",
            "Implementing implicit namespace packages (as specified in PEP 420) is preferred to `pkg_resources.declare_namespace`. See https://setuptools.pypa.io/en/latest/references/keywords.html#keyword-namespace-packages\n",
            "  declare_namespace(pkg)\n"
          ]
        },
        {
          "output_type": "stream",
          "name": "stdout",
          "text": [
            "Saving video to /content/videos/ppo-cartpole-step-0-to-step-500.mp4\n"
          ]
        },
        {
          "output_type": "stream",
          "name": "stderr",
          "text": [
            "/usr/local/lib/python3.11/dist-packages/moviepy/config_defaults.py:1: DeprecationWarning: invalid escape sequence '\\P'\n",
            "  \"\"\"\n"
          ]
        },
        {
          "output_type": "stream",
          "name": "stdout",
          "text": [
            "Moviepy - Building video /content/videos/ppo-cartpole-step-0-to-step-500.mp4.\n",
            "Moviepy - Writing video /content/videos/ppo-cartpole-step-0-to-step-500.mp4\n",
            "\n"
          ]
        },
        {
          "output_type": "stream",
          "name": "stderr",
          "text": []
        },
        {
          "output_type": "stream",
          "name": "stdout",
          "text": [
            "Moviepy - Done !\n",
            "Moviepy - video ready /content/videos/ppo-cartpole-step-0-to-step-500.mp4\n"
          ]
        }
      ],
      "source": [
        "record_video(\"CartPole-v1\", model, video_length=500, prefix=\"ppo-cartpole\")"
      ]
    },
    {
      "cell_type": "code",
      "execution_count": 16,
      "metadata": {
        "colab": {
          "base_uri": "https://localhost:8080/",
          "height": 421
        },
        "id": "-n4i-fW3NojZ",
        "outputId": "f3dcc0c6-cfd8-4457-ef8d-34692595ae6b"
      },
      "outputs": [
        {
          "output_type": "display_data",
          "data": {
            "text/plain": [
              "<IPython.core.display.HTML object>"
            ],
            "text/html": [
              "<video alt=\"videos/ppo-cartpole-step-0-to-step-500.mp4\" autoplay \n",
              "                    loop controls style=\"height: 400px;\">\n",
              "                    <source src=\"data:video/mp4;base64,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\" type=\"video/mp4\" />\n",
              "                </video>"
            ]
          },
          "metadata": {}
        }
      ],
      "source": [
        "show_videos(\"videos\", prefix=\"ppo\")"
      ]
    },
    {
      "cell_type": "markdown",
      "metadata": {
        "id": "9Y8zg4V566qD"
      },
      "source": [
        "## Bonus: Train a RL Model in One Line\n",
        "\n",
        "The policy class to use will be inferred and the environment will be automatically created. This works because both are [registered](https://stable-baselines.readthedocs.io/en/master/guide/quickstart.html)."
      ]
    },
    {
      "cell_type": "code",
      "execution_count": 17,
      "metadata": {
        "colab": {
          "base_uri": "https://localhost:8080/"
        },
        "id": "iaOPfOrwWEP4",
        "outputId": "978933b1-c703-4ba6-8e7c-76ad365ab7cc"
      },
      "outputs": [
        {
          "output_type": "stream",
          "name": "stdout",
          "text": [
            "Using cuda device\n",
            "Creating environment from the given name 'CartPole-v1'\n",
            "Wrapping the env with a `Monitor` wrapper\n",
            "Wrapping the env in a DummyVecEnv.\n"
          ]
        },
        {
          "output_type": "stream",
          "name": "stderr",
          "text": [
            "/usr/local/lib/python3.11/dist-packages/stable_baselines3/common/on_policy_algorithm.py:150: UserWarning: You are trying to run PPO on the GPU, but it is primarily intended to run on the CPU when not using a CNN policy (you are using ActorCriticPolicy which should be a MlpPolicy). See https://github.com/DLR-RM/stable-baselines3/issues/1245 for more info. You can pass `device='cpu'` or `export CUDA_VISIBLE_DEVICES=` to force using the CPU.Note: The model will train, but the GPU utilization will be poor and the training might take longer than on CPU.\n",
            "  warnings.warn(\n"
          ]
        },
        {
          "output_type": "stream",
          "name": "stdout",
          "text": [
            "---------------------------------\n",
            "| rollout/           |          |\n",
            "|    ep_len_mean     | 20.8     |\n",
            "|    ep_rew_mean     | 20.8     |\n",
            "| time/              |          |\n",
            "|    fps             | 660      |\n",
            "|    iterations      | 1        |\n",
            "|    time_elapsed    | 3        |\n",
            "|    total_timesteps | 2048     |\n",
            "---------------------------------\n"
          ]
        }
      ],
      "source": [
        "model = PPO('MlpPolicy', \"CartPole-v1\", verbose=1).learn(1000)"
      ]
    },
    {
      "cell_type": "markdown",
      "metadata": {
        "id": "FrI6f5fWnzp-"
      },
      "source": [
        "## Conclusion\n",
        "\n",
        "In this notebook we have seen:\n",
        "- how to define and train a RL model using stable baselines3, it takes only one line of code ;)\n"
      ]
    }
  ],
  "metadata": {
    "accelerator": "GPU",
    "colab": {
      "name": "1_getting_started.ipynb",
      "provenance": [],
      "include_colab_link": true
    },
    "kernelspec": {
      "display_name": "Python 3 (ipykernel)",
      "language": "python",
      "name": "python3"
    },
    "language_info": {
      "codemirror_mode": {
        "name": "ipython",
        "version": 3
      },
      "file_extension": ".py",
      "mimetype": "text/x-python",
      "name": "python",
      "nbconvert_exporter": "python",
      "pygments_lexer": "ipython3",
      "version": "3.11.0"
    },
    "vscode": {
      "interpreter": {
        "hash": "3201c96db5836b171d01fee72ea1be894646622d4b41771abf25c98b548a611d"
      }
    }
  },
  "nbformat": 4,
  "nbformat_minor": 0
}